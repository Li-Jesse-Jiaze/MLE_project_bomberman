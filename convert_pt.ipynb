{
 "cells": [
  {
   "cell_type": "code",
   "execution_count": 4,
   "metadata": {},
   "outputs": [],
   "source": [
    "import agent_code\n",
    "import pickle\n",
    "import agent_code.feature_is_everything.model\n",
    "\n",
    "with open(\"agent_code/dqn_5tile/my-saved-model.pt\", \"rb\") as file:\n",
    "    policy_net = pickle.load(file)\n",
    "\n",
    "\n",
    "fe = agent_code.feature_is_everything.model.DQN(34, 6)\n",
    "fe.load_state_dict(policy_net.state_dict())\n",
    "\n",
    "with open(\"agent_code/feature_is_everything/my-saved-model.pt\", \"wb\") as file:\n",
    "    pickle.dump(fe, file)"
   ]
  },
  {
   "cell_type": "code",
   "execution_count": null,
   "metadata": {},
   "outputs": [],
   "source": []
  }
 ],
 "metadata": {
  "kernelspec": {
   "display_name": "3dcv",
   "language": "python",
   "name": "python3"
  },
  "language_info": {
   "codemirror_mode": {
    "name": "ipython",
    "version": 3
   },
   "file_extension": ".py",
   "mimetype": "text/x-python",
   "name": "python",
   "nbconvert_exporter": "python",
   "pygments_lexer": "ipython3",
   "version": "3.10.14"
  }
 },
 "nbformat": 4,
 "nbformat_minor": 2
}
