{
 "cells": [
  {
   "cell_type": "code",
   "execution_count": 1,
   "metadata": {},
   "outputs": [],
   "source": [
    "from agent_code.q_learning.table import Table\n",
    "from collections import defaultdict\n",
    "import numpy as np"
   ]
  },
  {
   "cell_type": "code",
   "execution_count": 2,
   "metadata": {},
   "outputs": [],
   "source": [
    "q_table = Table()\n",
    "q_table.load_from_json('agent_code/q_learning/q_table2.json')"
   ]
  },
  {
   "cell_type": "code",
   "execution_count": 3,
   "metadata": {},
   "outputs": [],
   "source": [
    "qq_table = {tuple(key.split(', ')): value for key, value in q_table.items()}"
   ]
  },
  {
   "cell_type": "code",
   "execution_count": 4,
   "metadata": {},
   "outputs": [],
   "source": [
    "for key, value in qq_table.items():\n",
    "    if key[-1] == 'KILL!' and abs(value[-1]) < 10:\n",
    "        value[-1] += 500 + 10 * np.random.random()\n",
    "    # if 'enemy' in key and key[-1] == 'True':\n",
    "    #     value[-1] += 200 + 10 * np.random.random()\n",
    "    for i in range(6):\n",
    "        if key[i] in ['block', 'False'] and abs(value[i]) < 10:\n",
    "            value[i] -= 100 + 10 * np.random.random()\n",
    "        elif key[i] == 'dead' and abs(value[i]) < 10:\n",
    "            value[i] -= 200 + 10 * np.random.random()"
   ]
  },
  {
   "cell_type": "code",
   "execution_count": 5,
   "metadata": {},
   "outputs": [],
   "source": [
    "mod_q_table = {\", \".join(key): value for key, value in qq_table.items()}"
   ]
  },
  {
   "cell_type": "code",
   "execution_count": 6,
   "metadata": {},
   "outputs": [],
   "source": [
    "import json\n",
    "with open('agent_code/q_learning/q_table.json', 'w') as file:\n",
    "    json.dump(mod_q_table, file)"
   ]
  },
  {
   "cell_type": "code",
   "execution_count": null,
   "metadata": {},
   "outputs": [],
   "source": []
  }
 ],
 "metadata": {
  "kernelspec": {
   "display_name": "3dcv",
   "language": "python",
   "name": "python3"
  },
  "language_info": {
   "codemirror_mode": {
    "name": "ipython",
    "version": 3
   },
   "file_extension": ".py",
   "mimetype": "text/x-python",
   "name": "python",
   "nbconvert_exporter": "python",
   "pygments_lexer": "ipython3",
   "version": "3.10.14"
  }
 },
 "nbformat": 4,
 "nbformat_minor": 2
}
