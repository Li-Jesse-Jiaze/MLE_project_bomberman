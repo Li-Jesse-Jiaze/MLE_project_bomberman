{
 "cells": [
  {
   "cell_type": "code",
   "execution_count": 1,
   "metadata": {},
   "outputs": [],
   "source": [
    "from agent_code.q_learning.table import Table\n",
    "from collections import defaultdict\n",
    "import numpy as np"
   ]
  },
  {
   "cell_type": "code",
   "execution_count": 2,
   "metadata": {},
   "outputs": [],
   "source": [
    "q_table = Table()\n",
    "q_table.load_from_json('agent_code/q_learning/q_table1.json')"
   ]
  },
  {
   "cell_type": "code",
   "execution_count": 3,
   "metadata": {},
   "outputs": [],
   "source": [
    "qq_table = {tuple(key.split(', ')): value for key, value in q_table.items()}"
   ]
  },
  {
   "cell_type": "code",
   "execution_count": 4,
   "metadata": {},
   "outputs": [],
   "source": [
    "# 使用 defaultdict 存储新的字典，每个键对应一个值的列表\n",
    "new_dict = defaultdict(list)\n",
    "\n",
    "# 替换和合并\n",
    "for key, values in qq_table.items():\n",
    "    new_key = tuple('block' if x in {'crate', 'wall', 'bomb'} else x for x in key)\n",
    "    new_dict[new_key].append(values)\n",
    "\n",
    "# 计算平均值\n",
    "average_dict = {key: np.mean(values, axis=0).tolist() for key, values in new_dict.items()}\n"
   ]
  },
  {
   "cell_type": "code",
   "execution_count": 5,
   "metadata": {},
   "outputs": [],
   "source": [
    "for key, value in average_dict.items():\n",
    "    if key[-1] == 'KILL!' and value[-1] < 10:\n",
    "        value[-1] += 500"
   ]
  },
  {
   "cell_type": "code",
   "execution_count": 6,
   "metadata": {},
   "outputs": [],
   "source": [
    "for key, value in average_dict.items():\n",
    "    for i in range(6):\n",
    "        if key[i] == 'target' and value[i] < 10:\n",
    "            value[i] += 100"
   ]
  },
  {
   "cell_type": "code",
   "execution_count": 7,
   "metadata": {},
   "outputs": [],
   "source": [
    "mod_q_table = {\", \".join(key): value for key, value in average_dict.items()}"
   ]
  },
  {
   "cell_type": "code",
   "execution_count": 9,
   "metadata": {},
   "outputs": [],
   "source": [
    "import json\n",
    "with open('mod_q_table.json', 'w') as file:\n",
    "    json.dump(mod_q_table, file)"
   ]
  },
  {
   "cell_type": "code",
   "execution_count": null,
   "metadata": {},
   "outputs": [],
   "source": []
  }
 ],
 "metadata": {
  "kernelspec": {
   "display_name": "3dcv",
   "language": "python",
   "name": "python3"
  },
  "language_info": {
   "codemirror_mode": {
    "name": "ipython",
    "version": 3
   },
   "file_extension": ".py",
   "mimetype": "text/x-python",
   "name": "python",
   "nbconvert_exporter": "python",
   "pygments_lexer": "ipython3",
   "version": "3.10.14"
  }
 },
 "nbformat": 4,
 "nbformat_minor": 2
}
