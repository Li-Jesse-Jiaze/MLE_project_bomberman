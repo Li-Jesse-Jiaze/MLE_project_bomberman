{
 "cells": [
  {
   "cell_type": "code",
   "execution_count": 7,
   "metadata": {},
   "outputs": [],
   "source": [
    "def adjust_state(state, rotation=0, flip_horizontal=False, flip_vertical=False):\n",
    "    direction_index = {'UP': 0, 'RIGHT': 1, 'DOWN': 2, 'LEFT': 3}\n",
    "    directions = ['UP', 'RIGHT', 'DOWN', 'LEFT']  # Define the initial order of directions before rotation\n",
    "\n",
    "    # Normalize and apply clockwise rotation\n",
    "    rotation = (rotation // 90) % 4  # Normalize the rotation to one of 0, 1, 2, or 3\n",
    "    directions = directions[-rotation:] + directions[:-rotation]  # Rotate the list using slicing\n",
    "\n",
    "    # Handle horizontal flip\n",
    "    if flip_horizontal:\n",
    "        directions[1], directions[3] = directions[3], directions[1]  # Swap 'RIGHT' and 'LEFT'\n",
    "\n",
    "    # Handle vertical flip\n",
    "    if flip_vertical:\n",
    "        directions[0], directions[2] = directions[2], directions[0]  # Swap 'UP' and 'DOWN'\n",
    "\n",
    "    # Update the state according to the new direction list\n",
    "    new_state = [0] * 6\n",
    "    for i, dir in enumerate(directions):\n",
    "        new_state[i] = state[direction_index[dir]]\n",
    "    new_state[4] = state[4]  # 'CENTER' remains unchanged\n",
    "    new_state[5] = state[5]  # 'BOMBS_LEFT' remains unchanged\n",
    "\n",
    "    return new_state"
   ]
  },
  {
   "cell_type": "code",
   "execution_count": 8,
   "metadata": {},
   "outputs": [
    {
     "data": {
      "text/plain": [
       "['L', 'U', 'R', 'D', 'C', 'B']"
      ]
     },
     "execution_count": 8,
     "metadata": {},
     "output_type": "execute_result"
    }
   ],
   "source": [
    "state = ['U', 'R', 'D', 'L', 'C', 'B']\n",
    "\n",
    "adjust_state(state, 0, True)"
   ]
  },
  {
   "cell_type": "code",
   "execution_count": null,
   "metadata": {},
   "outputs": [],
   "source": []
  }
 ],
 "metadata": {
  "kernelspec": {
   "display_name": "3dcv",
   "language": "python",
   "name": "python3"
  },
  "language_info": {
   "codemirror_mode": {
    "name": "ipython",
    "version": 3
   },
   "file_extension": ".py",
   "mimetype": "text/x-python",
   "name": "python",
   "nbconvert_exporter": "python",
   "pygments_lexer": "ipython3",
   "version": "3.10.14"
  }
 },
 "nbformat": 4,
 "nbformat_minor": 2
}
