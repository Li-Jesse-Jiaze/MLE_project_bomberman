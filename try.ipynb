{
 "cells": [
  {
   "cell_type": "code",
   "execution_count": 7,
   "metadata": {},
   "outputs": [],
   "source": [
    "def adjust_state(state, rotation=0, flip_horizontal=False, flip_vertical=False):\n",
    "    direction_index = {'UP': 0, 'RIGHT': 1, 'DOWN': 2, 'LEFT': 3}\n",
    "    directions = ['UP', 'RIGHT', 'DOWN', 'LEFT']  # Define the initial order of directions before rotation\n",
    "\n",
    "    # Normalize and apply clockwise rotation\n",
    "    rotation = (rotation // 90) % 4  # Normalize the rotation to one of 0, 0, 2, or 3\n",
    "    directions = directions[-rotation:] + directions[:-rotation]  # Rotate the list using slicing\n",
    "\n",
    "    # Handle horizontal flip\n",
    "    if flip_horizontal:\n",
    "        directions[1], directions[3] = directions[3], directions[1]  # Swap 'RIGHT' and 'LEFT'\n",
    "\n",
    "    # Handle vertical flip\n",
    "    if flip_vertical:\n",
    "        directions[0], directions[2] = directions[2], directions[0]  # Swap 'UP' and 'DOWN'\n",
    "\n",
    "    # Update the state according to the new direction list\n",
    "    new_state = [0] * 6\n",
    "    for i, dir in enumerate(directions):\n",
    "        new_state[i] = state[direction_index[dir]]\n",
    "    new_state[4] = state[4]  # 'CENTER' remains unchanged\n",
    "    new_state[5] = state[5]  # 'BOMBS_LEFT' remains unchanged\n",
    "\n",
    "    return new_state"
   ]
  },
  {
   "cell_type": "code",
   "execution_count": 8,
   "metadata": {},
   "outputs": [
    {
     "data": {
      "text/plain": [
       "['L', 'U', 'R', 'D', 'C', 'B']"
      ]
     },
     "execution_count": 8,
     "metadata": {},
     "output_type": "execute_result"
    }
   ],
   "source": [
    "state = ['U', 'R', 'D', 'L', 'C', 'B']\n",
    "\n",
    "adjust_state(state, 0, True)"
   ]
  },
  {
   "cell_type": "code",
   "execution_count": 9,
   "metadata": {},
   "outputs": [
    {
     "name": "stdout",
     "output_type": "stream",
     "text": [
      "符合条件的位置：\n",
      " [[1 1]\n",
      " [1 3]\n",
      " [2 2]\n",
      " [3 1]\n",
      " [3 3]]\n"
     ]
    }
   ],
   "source": [
    "import numpy as np\n",
    "\n",
    "def find_crates_neighbors(field):\n",
    "    # 通过切片获取中心区域及其相邻的四个部分\n",
    "    center = field[1:-1, 1:-1]\n",
    "    up = field[:-2, 1:-1]\n",
    "    down = field[2:, 1:-1]\n",
    "    left = field[1:-1, :-2]\n",
    "    right = field[1:-1, 2:]\n",
    "\n",
    "    # 生成一个布尔数组，其中True表示中心位置为0且至少有一个邻居为1\n",
    "    result = (center == 0) & ((up == 1) | (down == 1) | (left == 1) | (right == 1))\n",
    "    \n",
    "    # 获取结果的索引位置，并调整索引以匹配原始数组\n",
    "    positions = np.argwhere(result)\n",
    "    return positions + 1  # 加1以调整到原始数组的索引\n",
    "\n",
    "# 示例数组，最外圈设为-1\n",
    "field = np.array([[-1, -1, -1, -1, -1],\n",
    "                  [-1, 0, 0, 0, -1],\n",
    "                  [-1, 0, 0, 1, -1],\n",
    "                  [-1, 0, 1, 0, -1],\n",
    "                  [-1, -1, -1, -1, -1]])\n",
    "\n",
    "# 调用函数\n",
    "positions = find_crates_neighbors(field)\n",
    "print(\"符合条件的位置：\\n\", positions)\n"
   ]
  },
  {
   "cell_type": "code",
   "execution_count": 11,
   "metadata": {},
   "outputs": [],
   "source": [
    "import os\n",
    "import json\n",
    "import random\n",
    "from collections import deque\n",
    "import settings as s\n",
    "\n",
    "import numpy as np\n",
    "\n",
    "\n",
    "def find_safe_positions(game_state, danger, max_steps=5):\n",
    "    field, explosion_map, bombs, _, others, pos = (\n",
    "        game_state['field'], game_state['explosion_map'], game_state['bombs'],\n",
    "        game_state['coins'], game_state['others'], game_state['self'][-1]\n",
    "    )\n",
    "    directions = [(0, -1), (1, 0), (0, 1), (-1, 0), (0, 0)]\n",
    "    first_step_to_safes = {}\n",
    "    q = deque()\n",
    "    q.append((pos[0], pos[1], 0, None))\n",
    "    while q:\n",
    "        x, y, steps, first_step = q.popleft()\n",
    "        if (danger[x][y] > 0 and s.BOMB_TIMER - danger[x][y] < steps <= s.BOMB_TIMER - danger[x][y] + s.EXPLOSION_TIMER) \\\n",
    "            or explosion_map[x][y] > steps: # explosion while agent passing by\n",
    "            continue\n",
    "        if steps == max_steps:\n",
    "            if first_step not in first_step_to_safes:\n",
    "                first_step_to_safes[first_step] = []\n",
    "            if (x, y) not in first_step_to_safes[first_step]:\n",
    "                first_step_to_safes[first_step].append((x, y))\n",
    "            continue\n",
    "        for i, (dx, dy) in enumerate(directions):\n",
    "            nx, ny = x + dx, y + dy\n",
    "            if 0 <= nx < field.shape[0] and 0 <= ny < field.shape[1]:\n",
    "                if field[nx, ny] != 0:\n",
    "                    continue\n",
    "                if any((nx, ny) == other[-1] for other in others) and steps == 0:\n",
    "                    continue\n",
    "                bomb_prevent = any((nx, ny) == (bx, by) and timer >= steps for (bx, by), timer in bombs)\n",
    "                if bomb_prevent:\n",
    "                    continue\n",
    "                new_first_step = i if first_step is None else first_step\n",
    "                if steps < max_steps:\n",
    "                    q.append((nx, ny, steps + 1, new_first_step))\n",
    "    return first_step_to_safes"
   ]
  },
  {
   "cell_type": "code",
   "execution_count": 12,
   "metadata": {},
   "outputs": [],
   "source": [
    "def calculate_steps(game_state, pos, objects, danger):\n",
    "    field, explosion_map, bombs, _, others, (x, y) = (\n",
    "        game_state['field'], game_state['explosion_map'], game_state['bombs'],\n",
    "        game_state['coins'], game_state['others'], game_state['self'][-1]\n",
    "    )\n",
    "    distances = np.full((len(objects),), np.inf)\n",
    "    target_index_map = {tuple(obj): idx for idx, obj in enumerate(objects)}\n",
    "    directions = [(0, -1), (1, 0), (0, 1), (-1, 0), (0, 0)] \n",
    "\n",
    "    q = deque()\n",
    "    q.append((pos[0], pos[1], 0))\n",
    "\n",
    "    visited = set()\n",
    "    visited.add(tuple(pos))\n",
    "    \n",
    "    # BFS\n",
    "    while q:\n",
    "        x, y, steps = q.popleft()\n",
    "        if (danger[x][y] > 0 and s.BOMB_TIMER - danger[x][y] < steps <= s.BOMB_TIMER - danger[x][y] + s.EXPLOSION_TIMER) \\\n",
    "            or explosion_map[x][y] > steps: # explosion while agent passing by\n",
    "            continue\n",
    "        if (x, y) in target_index_map:\n",
    "            idx = target_index_map[(x, y)]\n",
    "            distances[idx] = steps\n",
    "            del target_index_map[(x, y)]\n",
    "            if not target_index_map:\n",
    "                break\n",
    "        for dx, dy in directions:\n",
    "            nx, ny = x + dx, y + dy\n",
    "            if 0 <= nx < field.shape[0] and 0 <= ny < field.shape[1] and (nx, ny) not in visited:\n",
    "                if field[nx, ny] != 0:\n",
    "                    continue\n",
    "                if any((nx, ny) == other[-1] for other in others) and steps == 0:\n",
    "                    continue\n",
    "                bomb_prevent = any((nx, ny) == (bx, by) and timer >= steps for (bx, by), timer in bombs)\n",
    "                if bomb_prevent:\n",
    "                    continue\n",
    "                visited.add((nx, ny))\n",
    "                q.append((nx, ny, steps + 1))\n",
    "    \n",
    "    return distances"
   ]
  },
  {
   "cell_type": "code",
   "execution_count": 18,
   "metadata": {},
   "outputs": [],
   "source": [
    "def find_crates_neighbors(field):\n",
    "    center = field[1:-1, 1:-1]\n",
    "    up = field[:-2, 1:-1]\n",
    "    down = field[2:, 1:-1]\n",
    "    left = field[1:-1, :-2]\n",
    "    right = field[1:-1, 2:]\n",
    "    result = (center == 0) & ((up == 1) | (down == 1) | (left == 1) | (right == 1))\n",
    "    positions = np.argwhere(result)\n",
    "    return positions + 1  # back to ori index\n",
    "\n",
    "def look_for_target(game_state, features, safe_positions, danger):\n",
    "    field, _, _, coins, others, (x, y) = (\n",
    "        game_state['field'], game_state['explosion_map'], game_state['bombs'],\n",
    "        game_state['coins'], game_state['others'], game_state['self'][-1]\n",
    "    )\n",
    "    candidates = np.array(list(safe_positions.keys()))\n",
    "    directions = [(x, y - 1), (x + 1, y), (x, y + 1), (x - 1, y), (x, y)]\n",
    "    weights = {\"crates\": 1, \"coins\": 50, \"enemy\": 1}\n",
    "\n",
    "    if not candidates.size:\n",
    "        return\n",
    "\n",
    "    # Precompute positions for crates, coins, and enemies\n",
    "    object_positions = {\n",
    "        \"crates\": find_crates_neighbors(field),\n",
    "        \"coins\": np.array(coins),\n",
    "        \"enemy\": np.array([op[-1] for op in others])\n",
    "    }\n",
    "\n",
    "    scores = np.zeros(len(candidates))\n",
    "    # Precompute distances from current positions to all types of objects\n",
    "    for object_name, positions in object_positions.items():\n",
    "        if positions.size:\n",
    "            for i, index in enumerate(candidates):\n",
    "                direction = np.array(directions[index])\n",
    "                distances = calculate_steps(game_state, direction, positions, danger)\n",
    "                if distances.size:\n",
    "                    scores[i] += np.sum(weights[object_name] / (distances + 1))\n",
    "                    if danger[x][y] > 0:\n",
    "                        scores[i] += len(safe_positions[index]) * 20\n",
    "\n",
    "    # Determine the best candidates with the maximum score\n",
    "    best_indices = candidates[scores == scores.max()]\n",
    "    print(scores)\n",
    "\n",
    "    if best_indices.size:\n",
    "        chosen_index = np.random.choice(best_indices)\n",
    "        features[chosen_index] = \"target\""
   ]
  },
  {
   "cell_type": "code",
   "execution_count": 19,
   "metadata": {},
   "outputs": [
    {
     "name": "stdout",
     "output_type": "stream",
     "text": [
      "[2.2797619  2.33869048 2.41011905 2.37619048 2.41027861]\n"
     ]
    }
   ],
   "source": [
    "game_state = {}\n",
    "game_state['field'] = np.array(\n",
    "[[-1, -1, -1, -1, -1, -1, -1, -1, -1, -1, -1, -1, -1, -1, -1, -1, -1],\n",
    " [-1, 0,  0, 0,  0, 0,  0, 0,  0, 0,  0, 0,  0, 0,  0, 0, -1],\n",
    " [-1, 0, -1, 0, -1, 0, -1, 0, -1, 0, -1, 0, -1, 1, -1, 0, -1],\n",
    " [-1, 0,  0, 0,  0, 0,  1, 0,  1, 0,  1, 0,  0, 0,  0, 0, -1],\n",
    " [-1, 0, -1, 0, -1, 0, -1, 0, -1, 0, -1, 0, -1, 1, -1, 0, -1],\n",
    " [-1, 0,  0, 0,  0, 0,  0, 0,  0, 0,  0, 0,  0, 0,  0, 0, -1],\n",
    " [-1, 1, -1, 0, -1, 0, -1, 0, -1, 0, -1, 0, -1, 1, -1, 0, -1],\n",
    " [-1, 0,  0, 0,  0, 0,  0, 0,  0, 0,  0, 0,  0, 0,  0, 0, -1],\n",
    " [-1, 1, -1, 0, -1, 0, -1, 0, -1, 0, -1, 0, -1, 1, -1, 0, -1],\n",
    " [-1, 0,  0, 0,  0, 0,  0, 0,  0, 0,  0, 0,  0, 0,  0, 0, -1],\n",
    " [-1, 0, -1, 0, -1, 0, -1, 0, -1, 0, -1, 0, -1, 0, -1, 0, -1],\n",
    " [-1, 0,  0, 0,  0, 0,  0, 0,  0, 0,  0, 0,  0, 0,  0, 0, -1],\n",
    " [-1, 0, -1, 0, -1, 0, -1, 0, -1, 0, -1, 0, -1, 0, -1, 0, -1],\n",
    " [-1, 0,  0, 0,  0, 0,  0, 0,  1, 0,  1, 0,  1, 0,  1, 0, -1],\n",
    " [-1, 0, -1, 0, -1, 1, -1, 0, -1, 0, -1, 0, -1, 0, -1, 0, -1],\n",
    " [-1, 0,  0, 0,  0, 0,  0, 0,  0, 0,  0, 0,  0, 0,  0, 0, -1],\n",
    " [-1, -1, -1, -1, -1, -1, -1, -1, -1, -1, -1, -1, -1, -1, -1, -1, -1]]\n",
    ")\n",
    "game_state['explosion_map'] = np.zeros((17, 17))\n",
    "game_state['bombs'] = []\n",
    "game_state['coins'] = []\n",
    "game_state['others'] = []\n",
    "game_state['self'] = [(9, 11)]\n",
    "dangers = np.zeros((17, 17))\n",
    "features = ['free', 'free', 'free', 'free', 'free']\n",
    "\n",
    "safe_positions = find_safe_positions(game_state, dangers)\n",
    "look_for_target(game_state, features, safe_positions, dangers)"
   ]
  },
  {
   "cell_type": "code",
   "execution_count": 17,
   "metadata": {},
   "outputs": [
    {
     "data": {
      "text/plain": [
       "['free', 'free', 'free', 'free', 'target']"
      ]
     },
     "execution_count": 17,
     "metadata": {},
     "output_type": "execute_result"
    }
   ],
   "source": [
    "features"
   ]
  },
  {
   "cell_type": "code",
   "execution_count": null,
   "metadata": {},
   "outputs": [],
   "source": []
  }
 ],
 "metadata": {
  "kernelspec": {
   "display_name": "3dcv",
   "language": "python",
   "name": "python3"
  },
  "language_info": {
   "codemirror_mode": {
    "name": "ipython",
    "version": 3
   },
   "file_extension": ".py",
   "mimetype": "text/x-python",
   "name": "python",
   "nbconvert_exporter": "python",
   "pygments_lexer": "ipython3",
   "version": "3.12.4"
  }
 },
 "nbformat": 4,
 "nbformat_minor": 2
}
