{
 "cells": [
  {
   "cell_type": "code",
   "execution_count": 7,
   "metadata": {},
   "outputs": [],
   "source": [
    "def adjust_state(state, rotation=0, flip_horizontal=False, flip_vertical=False):\n",
    "    direction_index = {'UP': 0, 'RIGHT': 1, 'DOWN': 2, 'LEFT': 3}\n",
    "    directions = ['UP', 'RIGHT', 'DOWN', 'LEFT']  # Define the initial order of directions before rotation\n",
    "\n",
    "    # Normalize and apply clockwise rotation\n",
    "    rotation = (rotation // 90) % 4  # Normalize the rotation to one of 0, 1, 2, or 3\n",
    "    directions = directions[-rotation:] + directions[:-rotation]  # Rotate the list using slicing\n",
    "\n",
    "    # Handle horizontal flip\n",
    "    if flip_horizontal:\n",
    "        directions[1], directions[3] = directions[3], directions[1]  # Swap 'RIGHT' and 'LEFT'\n",
    "\n",
    "    # Handle vertical flip\n",
    "    if flip_vertical:\n",
    "        directions[0], directions[2] = directions[2], directions[0]  # Swap 'UP' and 'DOWN'\n",
    "\n",
    "    # Update the state according to the new direction list\n",
    "    new_state = [0] * 6\n",
    "    for i, dir in enumerate(directions):\n",
    "        new_state[i] = state[direction_index[dir]]\n",
    "    new_state[4] = state[4]  # 'CENTER' remains unchanged\n",
    "    new_state[5] = state[5]  # 'BOMBS_LEFT' remains unchanged\n",
    "\n",
    "    return new_state"
   ]
  },
  {
   "cell_type": "code",
   "execution_count": 8,
   "metadata": {},
   "outputs": [
    {
     "data": {
      "text/plain": [
       "['L', 'U', 'R', 'D', 'C', 'B']"
      ]
     },
     "execution_count": 8,
     "metadata": {},
     "output_type": "execute_result"
    }
   ],
   "source": [
    "state = ['U', 'R', 'D', 'L', 'C', 'B']\n",
    "\n",
    "adjust_state(state, 0, True)"
   ]
  },
  {
   "cell_type": "code",
   "execution_count": 9,
   "metadata": {},
   "outputs": [
    {
     "name": "stdout",
     "output_type": "stream",
     "text": [
      "符合条件的位置：\n",
      " [[1 1]\n",
      " [1 3]\n",
      " [2 2]\n",
      " [3 1]\n",
      " [3 3]]\n"
     ]
    }
   ],
   "source": [
    "import numpy as np\n",
    "\n",
    "def find_crates_neighbors(field):\n",
    "    # 通过切片获取中心区域及其相邻的四个部分\n",
    "    center = field[1:-1, 1:-1]\n",
    "    up = field[:-2, 1:-1]\n",
    "    down = field[2:, 1:-1]\n",
    "    left = field[1:-1, :-2]\n",
    "    right = field[1:-1, 2:]\n",
    "\n",
    "    # 生成一个布尔数组，其中True表示中心位置为0且至少有一个邻居为1\n",
    "    result = (center == 0) & ((up == 1) | (down == 1) | (left == 1) | (right == 1))\n",
    "    \n",
    "    # 获取结果的索引位置，并调整索引以匹配原始数组\n",
    "    positions = np.argwhere(result)\n",
    "    return positions + 1  # 加1以调整到原始数组的索引\n",
    "\n",
    "# 示例数组，最外圈设为-1\n",
    "field = np.array([[-1, -1, -1, -1, -1],\n",
    "                  [-1, 0, 0, 0, -1],\n",
    "                  [-1, 1, 0, 1, -1],\n",
    "                  [-1, 0, 1, 0, -1],\n",
    "                  [-1, -1, -1, -1, -1]])\n",
    "\n",
    "# 调用函数\n",
    "positions = find_crates_neighbors(field)\n",
    "print(\"符合条件的位置：\\n\", positions)\n"
   ]
  },
  {
   "cell_type": "code",
   "execution_count": null,
   "metadata": {},
   "outputs": [],
   "source": []
  }
 ],
 "metadata": {
  "kernelspec": {
   "display_name": "3dcv",
   "language": "python",
   "name": "python3"
  },
  "language_info": {
   "codemirror_mode": {
    "name": "ipython",
    "version": 3
   },
   "file_extension": ".py",
   "mimetype": "text/x-python",
   "name": "python",
   "nbconvert_exporter": "python",
   "pygments_lexer": "ipython3",
   "version": "3.10.14"
  }
 },
 "nbformat": 4,
 "nbformat_minor": 2
}
